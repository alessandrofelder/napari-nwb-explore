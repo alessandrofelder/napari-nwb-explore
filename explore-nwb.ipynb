{
 "cells": [
  {
   "cell_type": "code",
   "execution_count": 1,
   "id": "d0b77acf-0315-4dab-894c-6a0d30c3e239",
   "metadata": {
    "tags": []
   },
   "outputs": [],
   "source": [
    "from pynwb import NWBHDF5IO"
   ]
  },
  {
   "cell_type": "code",
   "execution_count": 2,
   "id": "1143dffd-489e-4c32-b14d-e644d6cc3dde",
   "metadata": {
    "tags": []
   },
   "outputs": [
    {
     "name": "stderr",
     "output_type": "stream",
     "text": [
      "/opt/anaconda3/envs/brainglobe/lib/python3.11/site-packages/pynwb/core.py:47: UserWarning: ImageSeries 'image_series': The number of frame indices in 'starting_frame' should have the same length as 'external_file'.\n",
      "  warn(error_msg)\n"
     ]
    }
   ],
   "source": [
    "nwbio = NWBHDF5IO(\"/Users/alessandrofelder/Downloads/neurofinder.01.01.jpg.nwb\", mode=\"r\")\n",
    "nwbfile = nwbio.read()"
   ]
  },
  {
   "cell_type": "code",
   "execution_count": 18,
   "id": "2c978099-7b9c-449a-bb0c-0765acde541f",
   "metadata": {
    "tags": []
   },
   "outputs": [
    {
     "data": {
      "text/plain": [
       "{'image_series': image_series pynwb.image.ImageSeries at 0x6040103696\n",
       " Fields:\n",
       "   comments: NWB file generated on 04 September 2019, 14:20:10 with pynwb v1.0.3 and Python 2.7.16\n",
       "   conversion: 1.0\n",
       "   description: Series of 183 images. Note: series downsampled and converted to JPEG for testing!\n",
       "   external_file: <StrDataset for HDF5 dataset \"external_file\": shape (183,), type \"|O\">\n",
       "   format: external\n",
       "   interval: 1\n",
       "   offset: 0.0\n",
       "   resolution: -1.0\n",
       "   starting_frame: [0]\n",
       "   timestamps: <HDF5 dataset \"timestamps\": shape (183,), type \"<f8\">\n",
       "   timestamps_unit: seconds\n",
       "   unit: unknown}"
      ]
     },
     "execution_count": 18,
     "metadata": {},
     "output_type": "execute_result"
    }
   ],
   "source": [
    "imageseries = nwbfile.acquisition['image_series']\n",
    "nwbfile.acquisition"
   ]
  },
  {
   "cell_type": "code",
   "execution_count": 4,
   "id": "754973b0-9ce1-4805-994f-5eb5dd96104b",
   "metadata": {
    "tags": []
   },
   "outputs": [
    {
     "data": {
      "text/plain": [
       "image_series pynwb.image.ImageSeries at 0x6040103696\n",
       "Fields:\n",
       "  comments: NWB file generated on 04 September 2019, 14:20:10 with pynwb v1.0.3 and Python 2.7.16\n",
       "  conversion: 1.0\n",
       "  description: Series of 183 images. Note: series downsampled and converted to JPEG for testing!\n",
       "  external_file: <StrDataset for HDF5 dataset \"external_file\": shape (183,), type \"|O\">\n",
       "  format: external\n",
       "  interval: 1\n",
       "  offset: 0.0\n",
       "  resolution: -1.0\n",
       "  starting_frame: [0]\n",
       "  timestamps: <HDF5 dataset \"timestamps\": shape (183,), type \"<f8\">\n",
       "  timestamps_unit: seconds\n",
       "  unit: unknown"
      ]
     },
     "execution_count": 4,
     "metadata": {},
     "output_type": "execute_result"
    }
   ],
   "source": [
    "imageseries"
   ]
  },
  {
   "cell_type": "code",
   "execution_count": 5,
   "id": "95bbe6aa-2613-4f7c-a5b3-df675c6c121b",
   "metadata": {
    "tags": []
   },
   "outputs": [],
   "source": [
    "import h5py"
   ]
  },
  {
   "cell_type": "code",
   "execution_count": 6,
   "id": "1cf856dd-9025-4cca-aa7e-8c20e2757208",
   "metadata": {
    "tags": []
   },
   "outputs": [],
   "source": [
    "from skimage import io"
   ]
  },
  {
   "cell_type": "code",
   "execution_count": 7,
   "id": "1b0c569f-bd97-4f42-b41e-ac5cf6e68ac3",
   "metadata": {
    "tags": []
   },
   "outputs": [
    {
     "data": {
      "text/plain": [
       "<StrDataset for HDF5 dataset \"external_file\": shape (183,), type \"|O\">"
      ]
     },
     "execution_count": 7,
     "metadata": {},
     "output_type": "execute_result"
    }
   ],
   "source": [
    "imageseries.external_file"
   ]
  },
  {
   "cell_type": "code",
   "execution_count": 8,
   "id": "6de71dfa-12e4-4dd7-8870-8bd36064e85b",
   "metadata": {},
   "outputs": [],
   "source": [
    "image_series = nwbfile.get_acquisition('image_series')"
   ]
  },
  {
   "cell_type": "code",
   "execution_count": 9,
   "id": "f382f831-e2c9-4056-bb97-9e2fbc498948",
   "metadata": {
    "tags": []
   },
   "outputs": [
    {
     "data": {
      "text/plain": [
       "<Attributes of HDF5 object at 6040025056>"
      ]
     },
     "execution_count": 9,
     "metadata": {},
     "output_type": "execute_result"
    }
   ],
   "source": [
    "image_series.external_file.attrs"
   ]
  },
  {
   "cell_type": "code",
   "execution_count": 10,
   "id": "d3f0bcac-03f7-4dd1-8702-0ebb7a5a3338",
   "metadata": {
    "tags": []
   },
   "outputs": [
    {
     "data": {
      "text/plain": [
       "<HDF5 file \"neurofinder.01.01.jpg.nwb\" (mode r)>"
      ]
     },
     "execution_count": 10,
     "metadata": {},
     "output_type": "execute_result"
    }
   ],
   "source": [
    "image_series.external_file.file"
   ]
  },
  {
   "cell_type": "code",
   "execution_count": 17,
   "id": "d118044e-d081-4969-9565-7215d3c8965c",
   "metadata": {
    "tags": []
   },
   "outputs": [
    {
     "data": {
      "text/plain": [
       "183"
      ]
     },
     "execution_count": 17,
     "metadata": {},
     "output_type": "execute_result"
    }
   ],
   "source": [
    "len(image_series.external_file)"
   ]
  },
  {
   "cell_type": "code",
   "execution_count": 12,
   "id": "440ad201-4844-42eb-bd64-147b8cd022db",
   "metadata": {
    "tags": []
   },
   "outputs": [
    {
     "name": "stdout",
     "output_type": "stream",
     "text": [
      "<http.client.HTTPResponse object at 0x17d04df30>\n"
     ]
    }
   ],
   "source": [
    "import urllib\n",
    "url = urllib.request.urlopen(image_series.external_file[0])\n",
    "buffer = url.read()\n",
    "print(url)"
   ]
  },
  {
   "cell_type": "code",
   "execution_count": null,
   "id": "6a194fba-1a94-4611-be5a-315ffc2def7c",
   "metadata": {
    "tags": []
   },
   "outputs": [],
   "source": []
  },
  {
   "cell_type": "code",
   "execution_count": 13,
   "id": "4134dfdc-81d5-45eb-b791-49e90a83783f",
   "metadata": {
    "tags": []
   },
   "outputs": [],
   "source": [
    "from napari.layers import Image"
   ]
  },
  {
   "cell_type": "raw",
   "id": "c1cebb0d-c078-4d67-9188-c1905003bf15",
   "metadata": {},
   "source": [
    "url.data"
   ]
  },
  {
   "cell_type": "code",
   "execution_count": 14,
   "id": "12e88021-9078-45fd-8f05-e3ba193b3e07",
   "metadata": {
    "tags": []
   },
   "outputs": [],
   "source": [
    "import numpy as np"
   ]
  },
  {
   "cell_type": "code",
   "execution_count": 15,
   "id": "40be0d91-3fbc-46dd-a700-5568a4c94df3",
   "metadata": {
    "tags": []
   },
   "outputs": [
    {
     "data": {
      "text/plain": [
       "b''"
      ]
     },
     "execution_count": 15,
     "metadata": {},
     "output_type": "execute_result"
    }
   ],
   "source": [
    "url.read()"
   ]
  },
  {
   "cell_type": "code",
   "execution_count": 16,
   "id": "b68559a1-7bcc-4fd5-ad20-59c8540c7a95",
   "metadata": {
    "tags": []
   },
   "outputs": [
    {
     "ename": "ValueError",
     "evalue": "buffer size must be a multiple of element size",
     "output_type": "error",
     "traceback": [
      "\u001b[0;31m---------------------------------------------------------------------------\u001b[0m",
      "\u001b[0;31mValueError\u001b[0m                                Traceback (most recent call last)",
      "Cell \u001b[0;32mIn[16], line 1\u001b[0m\n\u001b[0;32m----> 1\u001b[0m a \u001b[38;5;241m=\u001b[39m \u001b[43mnp\u001b[49m\u001b[38;5;241;43m.\u001b[39;49m\u001b[43mfrombuffer\u001b[49m\u001b[43m(\u001b[49m\u001b[43mbuffer\u001b[49m\u001b[43m)\u001b[49m\n",
      "\u001b[0;31mValueError\u001b[0m: buffer size must be a multiple of element size"
     ]
    }
   ],
   "source": [
    "a = np.frombuffer(buffer)"
   ]
  },
  {
   "cell_type": "code",
   "execution_count": null,
   "id": "9270b6f1-2e10-4313-b62f-dcd21fe4b43f",
   "metadata": {
    "tags": []
   },
   "outputs": [],
   "source": [
    "type(buffer)"
   ]
  },
  {
   "cell_type": "code",
   "execution_count": null,
   "id": "9d169a8a-544a-4524-b936-cb6a7100c2da",
   "metadata": {
    "tags": []
   },
   "outputs": [],
   "source": [
    "len(buffer)"
   ]
  },
  {
   "cell_type": "code",
   "execution_count": null,
   "id": "c02202d9-49a8-4657-8682-6bf6ab79b003",
   "metadata": {
    "tags": []
   },
   "outputs": [],
   "source": [
    "512*512/len(buffer)"
   ]
  },
  {
   "cell_type": "code",
   "execution_count": null,
   "id": "25c33879-075c-4785-9d5a-e1fc7111f9dd",
   "metadata": {
    "tags": []
   },
   "outputs": [],
   "source": [
    "np.frombuffer(buffer, dtype=int, like=np.zeros([512, 512]))"
   ]
  },
  {
   "cell_type": "code",
   "execution_count": null,
   "id": "f6e6feed-0ee9-4b59-9afb-98fdf40f849f",
   "metadata": {
    "tags": []
   },
   "outputs": [],
   "source": [
    "len(buffer)"
   ]
  },
  {
   "cell_type": "code",
   "execution_count": null,
   "id": "349defcd-d412-4f1d-a339-11eb5b2dfaba",
   "metadata": {
    "tags": []
   },
   "outputs": [],
   "source": [
    "import PIL"
   ]
  },
  {
   "cell_type": "code",
   "execution_count": null,
   "id": "b1d1bebf-6b9c-472b-b851-6041e3dcf072",
   "metadata": {
    "tags": []
   },
   "outputs": [],
   "source": [
    "PIL.Image.frombuffer('L', size=(512,512), data=buffer)"
   ]
  },
  {
   "cell_type": "code",
   "execution_count": null,
   "id": "ffe47f0e-34d4-4bb2-8696-2a1db506999f",
   "metadata": {
    "tags": []
   },
   "outputs": [],
   "source": [
    "help(PIL.Image.frombuffer)"
   ]
  },
  {
   "cell_type": "code",
   "execution_count": null,
   "id": "f11af033-2a22-4213-bd6a-89653965f7a8",
   "metadata": {
    "tags": []
   },
   "outputs": [],
   "source": [
    "import requests"
   ]
  },
  {
   "cell_type": "code",
   "execution_count": null,
   "id": "413d0e9c-7208-4a5b-b82a-faac8520d2e3",
   "metadata": {
    "tags": []
   },
   "outputs": [],
   "source": [
    "url"
   ]
  },
  {
   "cell_type": "code",
   "execution_count": null,
   "id": "ed6333a6-644d-4d56-a98b-4c035ba55e30",
   "metadata": {
    "tags": []
   },
   "outputs": [],
   "source": [
    "urlstring = \"https://raw.githubusercontent.com/OpenSourceBrain/CalciumImagingDriftingGrating/master/neurofinder.01.01/jpg/image00000.jpg\""
   ]
  },
  {
   "cell_type": "code",
   "execution_count": null,
   "id": "4cd25b07-882b-47ba-9a0d-e7074211c026",
   "metadata": {
    "tags": []
   },
   "outputs": [],
   "source": [
    "len(requests.get(urlstring).content)"
   ]
  },
  {
   "cell_type": "code",
   "execution_count": null,
   "id": "b76a0a24-2296-4a1e-a707-23e3314cd5f1",
   "metadata": {
    "tags": []
   },
   "outputs": [],
   "source": [
    "bytes = np.frombuffer(requests.get(urlstring).content, np.uint8)"
   ]
  },
  {
   "cell_type": "code",
   "execution_count": null,
   "id": "d5986615-3cfa-4766-85f0-53f248c596fb",
   "metadata": {
    "tags": []
   },
   "outputs": [],
   "source": [
    "bytes"
   ]
  },
  {
   "cell_type": "code",
   "execution_count": null,
   "id": "28cf2b72-a807-4c42-ba54-020eb8e0faaf",
   "metadata": {
    "tags": []
   },
   "outputs": [],
   "source": [
    "bytes.shape"
   ]
  },
  {
   "cell_type": "code",
   "execution_count": null,
   "id": "625b67ca-9521-4daf-a17c-19e4af73de75",
   "metadata": {
    "tags": []
   },
   "outputs": [],
   "source": [
    "512*512"
   ]
  },
  {
   "cell_type": "code",
   "execution_count": null,
   "id": "bd4969c2-ddaf-4707-8bfa-8821cb079f3f",
   "metadata": {
    "tags": []
   },
   "outputs": [],
   "source": [
    "import cv2"
   ]
  },
  {
   "cell_type": "code",
   "execution_count": null,
   "id": "2d8d2533-127c-42fa-8316-e9af7cfa4926",
   "metadata": {
    "tags": []
   },
   "outputs": [],
   "source": [
    "image = cv2.imdecode(bytes, cv2.IMREAD_COLOR) "
   ]
  },
  {
   "cell_type": "code",
   "execution_count": null,
   "id": "783f2e66-2451-4000-a045-bcf0c5ce1664",
   "metadata": {
    "tags": []
   },
   "outputs": [],
   "source": [
    "image.shape"
   ]
  },
  {
   "cell_type": "code",
   "execution_count": 1,
   "id": "5d0dc23a-0fa0-4f08-b4dd-fc9a36d80f8a",
   "metadata": {
    "tags": []
   },
   "outputs": [
    {
     "ename": "NameError",
     "evalue": "name 'image_series' is not defined",
     "output_type": "error",
     "traceback": [
      "\u001b[0;31m---------------------------------------------------------------------------\u001b[0m",
      "\u001b[0;31mNameError\u001b[0m                                 Traceback (most recent call last)",
      "Cell \u001b[0;32mIn[1], line 2\u001b[0m\n\u001b[1;32m      1\u001b[0m \u001b[38;5;66;03m# how to read one slice of the external image from a URL\u001b[39;00m\n\u001b[0;32m----> 2\u001b[0m urlstring \u001b[38;5;241m=\u001b[39m \u001b[43mimage_series\u001b[49m\u001b[38;5;241m.\u001b[39mexternal_file[\u001b[38;5;241m0\u001b[39m]\n\u001b[1;32m      3\u001b[0m buffer \u001b[38;5;241m=\u001b[39m requests\u001b[38;5;241m.\u001b[39mget(urlstring)\u001b[38;5;241m.\u001b[39mcontent\n\u001b[1;32m      4\u001b[0m \u001b[38;5;28mbytes\u001b[39m \u001b[38;5;241m=\u001b[39m np\u001b[38;5;241m.\u001b[39mfrombuffer(buffer, np\u001b[38;5;241m.\u001b[39muint8)\n",
      "\u001b[0;31mNameError\u001b[0m: name 'image_series' is not defined"
     ]
    }
   ],
   "source": [
    "# how to read one slice of the external image from a URL\n",
    "urlstring = image_series.external_file[0]\n",
    "buffer = requests.get(urlstring).content\n",
    "bytes = np.frombuffer(buffer, np.uint8)\n",
    "slice = cv2.imdecode(bytes, cv2.IMREAD_GRAYSCALE) \n",
    "\n",
    "# stack two slices\n",
    "image = np.stack((slice, slice), axis=0)\n",
    "image.shape\n",
    "\n",
    "# make a napari Image out of a numpy array\n",
    "from napari.layers import Image\n",
    "\n",
    "Image(image)\n",
    "\n",
    "# show image in napari\n",
    "import napari\n",
    "viewer = napari.view_image(image)"
   ]
  },
  {
   "cell_type": "code",
   "execution_count": null,
   "id": "bd3e9710-7f8f-40ac-9c8f-72dbe380ed44",
   "metadata": {
    "tags": []
   },
   "outputs": [],
   "source": [
    "slice.shape"
   ]
  },
  {
   "cell_type": "code",
   "execution_count": null,
   "id": "9c559a1b-cc25-491c-97a7-111082fc476f",
   "metadata": {
    "tags": []
   },
   "outputs": [],
   "source": [
    "image.shape"
   ]
  },
  {
   "cell_type": "code",
   "execution_count": null,
   "id": "801d4c1e-1f75-473a-9865-6c61ea957e86",
   "metadata": {
    "tags": []
   },
   "outputs": [],
   "source": [
    "np.all(image[:,:,0]==image[:,:,2])"
   ]
  },
  {
   "cell_type": "code",
   "execution_count": 20,
   "id": "3f2d2087-b057-41b3-ba82-4a6c3e7773aa",
   "metadata": {},
   "outputs": [
    {
     "name": "stderr",
     "output_type": "stream",
     "text": [
      "napari.manifest -> 'napari-nwb' could not be imported: Cannot find module 'napari_nwb' declared in entrypoint: 'napari_nwb:napari.yaml'\n"
     ]
    }
   ],
   "source": [
    "import napari\n",
    "viewer = napari.viewer.Viewer()\n",
    "napari.run()"
   ]
  },
  {
   "cell_type": "code",
   "execution_count": null,
   "id": "caeffd73-bc26-43c2-bb6c-49711349fd66",
   "metadata": {},
   "outputs": [],
   "source": []
  }
 ],
 "metadata": {
  "kernelspec": {
   "display_name": "Python 3 (ipykernel)",
   "language": "python",
   "name": "python3"
  },
  "language_info": {
   "codemirror_mode": {
    "name": "ipython",
    "version": 3
   },
   "file_extension": ".py",
   "mimetype": "text/x-python",
   "name": "python",
   "nbconvert_exporter": "python",
   "pygments_lexer": "ipython3",
   "version": "3.11.0"
  }
 },
 "nbformat": 4,
 "nbformat_minor": 5
}
